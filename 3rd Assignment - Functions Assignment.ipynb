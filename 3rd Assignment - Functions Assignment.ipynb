{
  "nbformat": 4,
  "nbformat_minor": 0,
  "metadata": {
    "colab": {
      "provenance": []
    },
    "kernelspec": {
      "name": "python3",
      "display_name": "Python 3"
    },
    "language_info": {
      "name": "python"
    }
  },
  "cells": [
    {
      "cell_type": "markdown",
      "source": [
        "\n",
        "# **Practical Assignment**\n",
        "\n"
      ],
      "metadata": {
        "id": "Ag3mzQA-1hO7"
      }
    },
    {
      "cell_type": "markdown",
      "source": [
        "1. Write a Python function that takes a list of numbers as input and returns the sum of all even numbers in the list."
      ],
      "metadata": {
        "id": "D8CNGwYl43AR"
      }
    },
    {
      "cell_type": "code",
      "source": [
        "def sum_of_evens(numbers):\n",
        "    total = 0\n",
        "    for num in numbers:\n",
        "        if num % 2 == 0:\n",
        "            total += num\n",
        "    return total\n",
        "\n",
        "nums = [10, 21, 4, 45, 66, 93, 11]\n",
        "print(\"Sum of even numbers:\", sum_of_evens(nums))"
      ],
      "metadata": {
        "id": "tB2vsFEmG5SW",
        "colab": {
          "base_uri": "https://localhost:8080/"
        },
        "outputId": "0eb3f744-4241-4f14-f567-7dfc0759600d"
      },
      "execution_count": null,
      "outputs": [
        {
          "output_type": "stream",
          "name": "stdout",
          "text": [
            "Sum of even numbers: 80\n"
          ]
        }
      ]
    },
    {
      "cell_type": "markdown",
      "source": [
        "2. Create a Python function that accepts a string and returns the reverse of that string."
      ],
      "metadata": {
        "id": "M0SXBrZi5hJ2"
      }
    },
    {
      "cell_type": "code",
      "source": [
        "def reverse_string(s):\n",
        "    result = \"\"\n",
        "    for char in s:\n",
        "        result = char + result\n",
        "    return result\n",
        "print(reverse_string(\"HELLO WORLD\"))"
      ],
      "metadata": {
        "id": "9QWhMLAvG7kj",
        "colab": {
          "base_uri": "https://localhost:8080/"
        },
        "outputId": "04fe843c-fba3-46e4-930e-7a7043e733ba"
      },
      "execution_count": null,
      "outputs": [
        {
          "output_type": "stream",
          "name": "stdout",
          "text": [
            "DLROW OLLEH\n"
          ]
        }
      ]
    },
    {
      "cell_type": "markdown",
      "source": [
        "3. Implement a Python function that takes a list of integers and returns a new list containing the squares of\n",
        "each number."
      ],
      "metadata": {
        "id": "XiYXCsX05iIl"
      }
    },
    {
      "cell_type": "code",
      "source": [
        "def square_list(nums):\n",
        "    return list(map(lambda x: x**2, nums))\n",
        "numbers = [6, 7, 8]\n",
        "print(square_list(numbers))"
      ],
      "metadata": {
        "id": "TVg2M3aSG7hJ",
        "colab": {
          "base_uri": "https://localhost:8080/"
        },
        "outputId": "290afbcd-185b-4c4a-84f1-f2dfb4abd642"
      },
      "execution_count": null,
      "outputs": [
        {
          "output_type": "stream",
          "name": "stdout",
          "text": [
            "[36, 49, 64]\n"
          ]
        }
      ]
    },
    {
      "cell_type": "markdown",
      "source": [
        "4. Write a Python function that checks if a given number is prime or not from 1 to 200."
      ],
      "metadata": {
        "id": "c-iJyxHx5uo1"
      }
    },
    {
      "cell_type": "code",
      "source": [
        "def is_prime(n):\n",
        "    if n < 2:\n",
        "        return False\n",
        "    for i in range(2, int(n**0.5) + 1):\n",
        "        if n % i == 0:\n",
        "            return False\n",
        "    return True\n",
        "print(is_prime(int(input(\"enter a number for this is prime or not - \"))))"
      ],
      "metadata": {
        "id": "nRp05zkvG7eW",
        "colab": {
          "base_uri": "https://localhost:8080/"
        },
        "outputId": "970a818b-42ef-4c15-b110-931ef1801545"
      },
      "execution_count": null,
      "outputs": [
        {
          "output_type": "stream",
          "name": "stdout",
          "text": [
            "enter a number for this is prime or not - 17\n",
            "True\n"
          ]
        }
      ]
    },
    {
      "cell_type": "markdown",
      "source": [
        "5. Create an iterator class in Python that generates the Fibonacci sequence up to a specified number of\n",
        "terms."
      ],
      "metadata": {
        "id": "u5JE9AAG5vgF"
      }
    },
    {
      "cell_type": "code",
      "source": [
        "def fibonacci_generator():\n",
        "    a, b = 0, 1\n",
        "    while True:\n",
        "        yield a\n",
        "        a, b = b, a + b\n",
        "fib_gen = fibonacci_generator()\n",
        "print(next(fib_gen))\n",
        "print(next(fib_gen))\n",
        "print(next(fib_gen))\n",
        "print(next(fib_gen))\n",
        "print(next(fib_gen))\n",
        "print(next(fib_gen))\n",
        "print(next(fib_gen))\n",
        "print(next(fib_gen))\n",
        "\n"
      ],
      "metadata": {
        "id": "_XQkxLclG7bK",
        "colab": {
          "base_uri": "https://localhost:8080/"
        },
        "outputId": "56acef84-b66b-4c6b-837b-556eab54a978"
      },
      "execution_count": null,
      "outputs": [
        {
          "output_type": "stream",
          "name": "stdout",
          "text": [
            "0\n",
            "1\n",
            "1\n",
            "2\n",
            "3\n",
            "5\n",
            "8\n",
            "13\n"
          ]
        }
      ]
    },
    {
      "cell_type": "markdown",
      "source": [
        "6. Write a generator function in Python that yields the powers of 2 up to a given exponent."
      ],
      "metadata": {
        "id": "L8WM0Y0p5wHC"
      }
    },
    {
      "cell_type": "code",
      "source": [
        "def powers_of_two(n):\n",
        "    for exp in range(n + 1):\n",
        "        yield 2 ** exp\n",
        "print(list(powers_of_two(int(input(\"enter a number for squares - \")))))"
      ],
      "metadata": {
        "id": "kjV-4BhlG7Yr",
        "colab": {
          "base_uri": "https://localhost:8080/"
        },
        "outputId": "ae882bfb-b645-40ab-fdf3-59f111eae24c"
      },
      "execution_count": null,
      "outputs": [
        {
          "output_type": "stream",
          "name": "stdout",
          "text": [
            "enter a number for squares - 5\n",
            "[1, 2, 4, 8, 16, 32]\n"
          ]
        }
      ]
    },
    {
      "cell_type": "markdown",
      "source": [
        "7. Implement a generator function that reads a file line by line and yields each line as a string."
      ],
      "metadata": {
        "id": "1XadmKza5xMh"
      }
    },
    {
      "cell_type": "code",
      "source": [
        "def read_lines(lines):\n",
        "      for line_number, line in enumerate(lines, start=1):\n",
        "        print(f\"Line {line_number}: {line}\")\n",
        "        yield line\n",
        "sample_lines = [\"Hello\", \"This is Python\", \"Generators Example\"]\n",
        "for line in read_lines(sample_lines):\n",
        "    pass"
      ],
      "metadata": {
        "id": "p74gjQYyG7WG",
        "colab": {
          "base_uri": "https://localhost:8080/"
        },
        "outputId": "f87dbd42-8661-4df3-d322-748a08a43037"
      },
      "execution_count": null,
      "outputs": [
        {
          "output_type": "stream",
          "name": "stdout",
          "text": [
            "Line 1: Hello\n",
            "Line 2: This is Python\n",
            "Line 3: Generators Example\n"
          ]
        }
      ]
    },
    {
      "cell_type": "markdown",
      "source": [
        "8. Use a lambda function in Python to sort a list of tuples based on the second element of each tuple."
      ],
      "metadata": {
        "id": "DiVVdq0k5xvM"
      }
    },
    {
      "cell_type": "code",
      "source": [
        "data = [(1, 4), (3, 1), (5, 9), (2, 6), (4, 2)]\n",
        "sorted_data = sorted(data, key=lambda x: x[1])\n",
        "print(\"Original:\", data)\n",
        "print(\"Sorted by second element:\", sorted_data)"
      ],
      "metadata": {
        "id": "qToipFknG7Ta",
        "colab": {
          "base_uri": "https://localhost:8080/"
        },
        "outputId": "56a71ab6-4cfe-4b7d-8c34-a3fab239068e"
      },
      "execution_count": null,
      "outputs": [
        {
          "output_type": "stream",
          "name": "stdout",
          "text": [
            "Original: [(1, 4), (3, 1), (5, 9), (2, 6), (4, 2)]\n",
            "Sorted by second element: [(3, 1), (4, 2), (1, 4), (2, 6), (5, 9)]\n"
          ]
        }
      ]
    },
    {
      "cell_type": "markdown",
      "source": [
        "9. Write a Python program that uses `map()` to convert a list of temperatures from Celsius to Fahrenheit."
      ],
      "metadata": {
        "id": "FDUGENcY5yiY"
      }
    },
    {
      "cell_type": "code",
      "source": [
        "celsius = [0, 10, 20, 30, 40]\n",
        "fahrenheit = list(map(lambda c: (c * 9/5) + 32, celsius))\n",
        "print(\"Celsius:    \", celsius)\n",
        "print(\"Fahrenheit: \", fahrenheit)"
      ],
      "metadata": {
        "id": "sbC9BpCvG7Qr",
        "colab": {
          "base_uri": "https://localhost:8080/"
        },
        "outputId": "8577f5b5-1af4-4aa0-b3ca-d1df5daee2f4"
      },
      "execution_count": null,
      "outputs": [
        {
          "output_type": "stream",
          "name": "stdout",
          "text": [
            "Celsius:     [0, 10, 20, 30, 40]\n",
            "Fahrenheit:  [32.0, 50.0, 68.0, 86.0, 104.0]\n"
          ]
        }
      ]
    },
    {
      "cell_type": "markdown",
      "source": [
        "10. Create a Python program that uses `filter()` to remove all the vowels from a given string."
      ],
      "metadata": {
        "id": "EydkI3J150hB"
      }
    },
    {
      "cell_type": "code",
      "source": [
        "def remove_vowels(text):\n",
        "    vowels = \"aeiouAEIOU\"\n",
        "    return \"\".join(filter(lambda ch: ch not in vowels, text))\n",
        "string = \"Hello World, Python is Awesome!\"\n",
        "result = remove_vowels(string)\n",
        "print(\"Original String:\", string)\n",
        "print(\"Without Vowels :\", result)"
      ],
      "metadata": {
        "id": "Q41qCVwiG7NU",
        "colab": {
          "base_uri": "https://localhost:8080/"
        },
        "outputId": "1fe31cd4-58c1-4060-8438-75a779bc3b2d"
      },
      "execution_count": null,
      "outputs": [
        {
          "output_type": "stream",
          "name": "stdout",
          "text": [
            "Original String: Hello World, Python is Awesome!\n",
            "Without Vowels : Hll Wrld, Pythn s wsm!\n"
          ]
        }
      ]
    },
    {
      "cell_type": "markdown",
      "source": [
        "11. Imagine an accounting routine used in a book shop. It works on a list with sublists, which look like this:\n",
        "    [34587, \"Learning Python\", \"Mark Lutz\", 4, 46.95],\n",
        "    [98762, \"Programming Python\", \"Mark Lutz\", 5, 59.95],\n",
        "    [77226, \"Head First Python\", \"Paul Barry\", 3, 32.95],\n",
        "    [88112, \"Einführung in Python3\", \"Bernd Klein\", 3, 24.99]\n",
        "Write a Python program, which returns a list with 2-tuples. Each tuple consists of the order number and the\n",
        "product of the price per item and the quantity. The product should be increased by 10,- € if the value of the\n",
        "order is smaller than 100,00 €.\n",
        "\n",
        "Write a Python program using lambda and map."
      ],
      "metadata": {
        "id": "pYnFLnJV51LB"
      }
    },
    {
      "cell_type": "code",
      "source": [
        "orders = [\n",
        "    [34587, \"Learning Python\", \"Mark Lutz\", 4, 46.95],\n",
        "    [98762, \"Programming Python\", \"Mark Lutz\", 5, 59.95],\n",
        "    [77226, \"Head First Python\", \"Paul Barry\", 3, 32.95],\n",
        "    [88112, \"Einführung in Python3\", \"Bernd Klein\", 3, 24.99]\n",
        "]\n",
        "result = list(map(lambda x: (x[0], x[3] * x[4] if x[3] * x[4] >= 100 else x[3] * x[4] + 10), orders))\n",
        "print(result)"
      ],
      "metadata": {
        "id": "Vqn7B3YpG7Kg",
        "colab": {
          "base_uri": "https://localhost:8080/"
        },
        "outputId": "ab14daf5-7abe-47a1-8535-d22c37512016"
      },
      "execution_count": null,
      "outputs": [
        {
          "output_type": "stream",
          "name": "stdout",
          "text": [
            "[(34587, 187.8), (98762, 299.75), (77226, 108.85000000000001), (88112, 84.97)]\n"
          ]
        }
      ]
    }
  ]
}